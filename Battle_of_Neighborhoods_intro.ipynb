{
 "cells": [
  {
   "cell_type": "markdown",
   "metadata": {},
   "source": [
    "#### Introduction/Business Problem:"
   ]
  },
  {
   "cell_type": "markdown",
   "metadata": {},
   "source": [
    "##### An exploratory analysis of eateries in Manhattan: for Nature’s Platter to open its branch.\n",
    "\n",
    "Manhattan is the most densely populated city of New York; it is also described as the financial capital of New York and the world. As one can imagine, people in Manhattan have a demanding lifestyle, especially with the large section of people working with financial firms round the clock. With impending tasks at work and continuous time-crunch, it is difficult for this section of people to be particular and conscious of the food they have.\n",
    "\n",
    "To aid people with such busy schedules in reducing the life-style issues by providing and encouraging them to go for better food choices, Nature’s Platter, an organic eatery and grocery store is planning to open its branches in New York. \n",
    "Nature’s Platter currently focuses on targeting the locations around financial institutions to contribute and cater to the health needs of the people working in that sector. \n",
    "Hence, it wants to explore the Manhattan’s financial firms’ localities to examine the eateries around the firms’ and to find out if there are any other organic eateries already in place. \n",
    "The store’s management also wants to visualize this data to enable them have a better understanding of their target areas and eateries around them."
   ]
  },
  {
   "cell_type": "code",
   "execution_count": null,
   "metadata": {},
   "outputs": [],
   "source": []
  }
 ],
 "metadata": {
  "kernelspec": {
   "display_name": "Python 3",
   "language": "python",
   "name": "python3"
  },
  "language_info": {
   "codemirror_mode": {
    "name": "ipython",
    "version": 3
   },
   "file_extension": ".py",
   "mimetype": "text/x-python",
   "name": "python",
   "nbconvert_exporter": "python",
   "pygments_lexer": "ipython3",
   "version": "3.6.8"
  }
 },
 "nbformat": 4,
 "nbformat_minor": 2
}
